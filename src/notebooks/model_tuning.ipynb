{
 "cells": [
  {
   "cell_type": "code",
   "execution_count": 8,
   "metadata": {},
   "outputs": [],
   "source": [
    "import matplotlib.pyplot as plt\n",
    "import pandas as pd\n",
    "import numpy as np\n",
    "import sys\n",
    "import warnings\n",
    "\n",
    "from sklearn.linear_model import LogisticRegression\n",
    "from sklearn.ensemble import RandomForestClassifier, GradientBoostingClassifier\n",
    "from sklearn.naive_bayes import CategoricalNB\n",
    "\n",
    "sys.path.insert(0, '../python/')\n",
    "from helpers import *\n",
    "\n",
    "plt.style.use('fivethirtyeight')\n",
    "plt.rcParams.update({'font.size': 14})\n",
    "warnings.filterwarnings('ignore')"
   ]
  },
  {
   "cell_type": "code",
   "execution_count": null,
   "metadata": {},
   "outputs": [],
   "source": [
    "# features\n",
    "# - hotel: [Resort Hotel, City Hotel] => [0, 1]\n",
    "# - market_segment: [Corporate, Online TA, Offline TA/TO, Direct, Groups] => dummies\n",
    "# - total_special_requests: [0, 1, 2] => dummies\n",
    "# - room_difference: [0, 1]\n",
    "# - party_size\n"
   ]
  },
  {
   "cell_type": "code",
   "execution_count": 13,
   "metadata": {},
   "outputs": [],
   "source": [
    "data = pd.read_csv('../../data/train/cancellations.csv')"
   ]
  },
  {
   "cell_type": "code",
   "execution_count": 15,
   "metadata": {},
   "outputs": [],
   "source": [
    "X = data[['hotel','market_segment', 'total_of_special_requests', 'total_nights', 'room_difference']].copy()\n",
    "X.replace(['Resort Hotel', 'City Hotel'], [0, 1], inplace=True)\n",
    "X.loc[np.argwhere((X['total_nights'] >= 8).values).flatten(), 'total_nights'] = 8\n",
    "X.loc[np.argwhere((X['total_of_special_requests'] >= 2).values).flatten(), 'total_of_special_requests'] = 2\n",
    "X.loc[np.argwhere(X['market_segment'].isin(['Aviation', 'Complementary']).values).flatten(), 'market_segment'] = 'Corporate'\n",
    "#X = pd.get_dummies(X, columns=['market_segment', 'total_of_special_requests', 'total_nights']).to_numpy()\n",
    "#y = data[['is_canceled']].to_numpy()"
   ]
  },
  {
   "cell_type": "code",
   "execution_count": 25,
   "metadata": {},
   "outputs": [
    {
     "data": {
      "text/plain": [
       "2.0     65516\n",
       "1.0     17783\n",
       "3.0      8408\n",
       "4.0      3160\n",
       "0.0       138\n",
       "5.0       101\n",
       "26.0        5\n",
       "27.0        2\n",
       "20.0        1\n",
       "12.0        1\n",
       "10.0        1\n",
       "50.0        1\n",
       "40.0        1\n",
       "Name: party_size, dtype: int64"
      ]
     },
     "execution_count": 25,
     "metadata": {},
     "output_type": "execute_result"
    }
   ],
   "source": [
    "data['party_size'].value_counts()"
   ]
  },
  {
   "cell_type": "code",
   "execution_count": 27,
   "metadata": {},
   "outputs": [
    {
     "data": {
      "text/plain": [
       "2     21987\n",
       "3     21718\n",
       "1     16578\n",
       "4     13852\n",
       "7      6934\n",
       "5      6249\n",
       "6      3053\n",
       "8       927\n",
       "10      904\n",
       "14      733\n",
       "9       669\n",
       "0       564\n",
       "11      313\n",
       "12      182\n",
       "13      113\n",
       "15       59\n",
       "21       56\n",
       "16       30\n",
       "28       29\n",
       "25       28\n",
       "18       28\n",
       "17       20\n",
       "19       15\n",
       "20       12\n",
       "30       12\n",
       "22       10\n",
       "23        7\n",
       "29        7\n",
       "35        5\n",
       "24        4\n",
       "26        4\n",
       "42        4\n",
       "27        3\n",
       "33        2\n",
       "45        1\n",
       "49        1\n",
       "48        1\n",
       "56        1\n",
       "43        1\n",
       "34        1\n",
       "57        1\n",
       "Name: total_nights, dtype: int64"
      ]
     },
     "execution_count": 27,
     "metadata": {},
     "output_type": "execute_result"
    }
   ],
   "source": [
    "data['total_nights'].value_counts()"
   ]
  },
  {
   "cell_type": "code",
   "execution_count": 31,
   "metadata": {},
   "outputs": [
    {
     "data": {
      "text/plain": [
       "Index(['hotel', 'is_canceled', 'lead_time', 'arrival_date_year',\n",
       "       'arrival_date_month', 'arrival_date_week_number',\n",
       "       'arrival_date_day_of_month', 'stays_in_weekend_nights',\n",
       "       'stays_in_week_nights', 'adults', 'children', 'babies', 'meal',\n",
       "       'country', 'market_segment', 'distribution_channel',\n",
       "       'is_repeated_guest', 'previous_cancellations',\n",
       "       'previous_bookings_not_canceled', 'reserved_room_type',\n",
       "       'assigned_room_type', 'booking_changes', 'deposit_type', 'agent',\n",
       "       'company', 'days_in_waiting_list', 'customer_type', 'adr',\n",
       "       'required_car_parking_spaces', 'total_of_special_requests',\n",
       "       'reservation_status', 'reservation_status_date', 'total_nights',\n",
       "       'party_size', 'is_family', 'room_difference', 'had_agent',\n",
       "       'had_company', 'full_date'],\n",
       "      dtype='object')"
      ]
     },
     "execution_count": 31,
     "metadata": {},
     "output_type": "execute_result"
    }
   ],
   "source": [
    "data.columns"
   ]
  },
  {
   "cell_type": "code",
   "execution_count": null,
   "metadata": {},
   "outputs": [],
   "source": []
  }
 ],
 "metadata": {
  "kernelspec": {
   "display_name": "Python 3",
   "language": "python",
   "name": "python3"
  },
  "language_info": {
   "codemirror_mode": {
    "name": "ipython",
    "version": 3
   },
   "file_extension": ".py",
   "mimetype": "text/x-python",
   "name": "python",
   "nbconvert_exporter": "python",
   "pygments_lexer": "ipython3",
   "version": "3.7.4"
  }
 },
 "nbformat": 4,
 "nbformat_minor": 2
}
