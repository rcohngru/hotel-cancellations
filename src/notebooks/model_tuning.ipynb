{
 "cells": [
  {
   "cell_type": "code",
   "execution_count": 23,
   "metadata": {},
   "outputs": [],
   "source": [
    "import matplotlib.pyplot as plt\n",
    "import pandas as pd\n",
    "import numpy as np\n",
    "import sys\n",
    "import warnings\n",
    "\n",
    "from sklearn.linear_model import LogisticRegression\n",
    "from sklearn.ensemble import RandomForestClassifier, GradientBoostingClassifier\n",
    "from sklearn.model_selection import train_test_split, GridSearchCV, KFold\n",
    "from sklearn.pipeline import Pipeline, make_pipeline\n",
    "from sklearn.metrics import f1_score\n",
    "\n",
    "sys.path.insert(0, '../python/')\n",
    "from helpers import *\n",
    "\n",
    "plt.style.use('fivethirtyeight')\n",
    "plt.rcParams.update({'font.size': 14})\n",
    "warnings.filterwarnings('ignore')"
   ]
  },
  {
   "cell_type": "code",
   "execution_count": 2,
   "metadata": {},
   "outputs": [],
   "source": [
    "# features\n",
    "# - hotel: [Resort Hotel, City Hotel] => [0, 1]\n",
    "# - total_nights: [1, 2, 3, 4, 5, 6, 7, 8] => dummies\n",
    "# - total_special_requests: [0, 1, 2] => dummies\n",
    "# - market_segment: [Corporate, Online TA, Offline TA/TO, Direct, Groups] => dummies\n",
    "# - room_difference: [0, 1]\n",
    "# - party_size: [1, 2, 3] => dummies\n",
    "# - booking_changes: [0, 1]\n"
   ]
  },
  {
   "cell_type": "code",
   "execution_count": 3,
   "metadata": {},
   "outputs": [],
   "source": [
    "data = pd.read_csv('../../data/train/cancellations.csv')"
   ]
  },
  {
   "cell_type": "markdown",
   "metadata": {},
   "source": [
    "# Clean and Prepare Data for Tuning"
   ]
  },
  {
   "cell_type": "code",
   "execution_count": 4,
   "metadata": {},
   "outputs": [],
   "source": [
    "feats = ['hotel','market_segment', 'total_of_special_requests', \n",
    "         'total_nights', 'room_difference', 'party_size', 'booking_changes']\n",
    "dummy_cols = ['total_nights', 'total_of_special_requests', 'market_segment', 'party_size']\n",
    "\n",
    "X = data[feats].copy()\n",
    "\n",
    "X.replace(['Resort Hotel', 'City Hotel'], [0, 1], inplace=True)\n",
    "X.loc[np.argwhere((X['total_nights'] >= 8).values).flatten(), 'total_nights'] = 8\n",
    "X.loc[np.argwhere((X['total_of_special_requests'] >= 2).values).flatten(), 'total_of_special_requests'] = 2\n",
    "X.loc[np.argwhere(X['market_segment'].isin(['Aviation', 'Complementary']).values).flatten(), 'market_segment'] = 'Corporate'\n",
    "X.loc[np.argwhere((X['party_size'] >= 3).values).flatten(), 'party_size'] = 3\n",
    "X.loc[np.argwhere((X['booking_changes'] >= 1).values).flatten(), 'booking_changes'] = 1\n",
    "\n",
    "X = pd.get_dummies(X, columns=dummy_cols).to_numpy()\n",
    "y = data[['is_canceled']].to_numpy()"
   ]
  },
  {
   "cell_type": "markdown",
   "metadata": {},
   "source": [
    "# Random Forest Gridsearch"
   ]
  },
  {
   "cell_type": "code",
   "execution_count": 5,
   "metadata": {},
   "outputs": [
    {
     "name": "stdout",
     "output_type": "stream",
     "text": [
      "Fitting 5 folds for each of 8 candidates, totalling 40 fits\n"
     ]
    },
    {
     "name": "stderr",
     "output_type": "stream",
     "text": [
      "[Parallel(n_jobs=-1)]: Using backend LokyBackend with 8 concurrent workers.\n",
      "[Parallel(n_jobs=-1)]: Done  40 out of  40 | elapsed:   30.5s finished\n"
     ]
    },
    {
     "name": "stdout",
     "output_type": "stream",
     "text": [
      "best parameters: {'estimator__criterion': 'entropy', 'estimator__max_depth': 10, 'estimator__max_features': 'sqrt', 'estimator__min_samples_leaf': 1, 'estimator__n_estimators': 75, 'estimator__random_state': 1}\n"
     ]
    }
   ],
   "source": [
    "pipe = Pipeline(steps=[('estimator', RandomForestClassifier())])\n",
    "\n",
    "\n",
    "params = {'estimator__max_depth': [10],\n",
    "          'estimator__max_features': ['sqrt', 'log2'],\n",
    "          'estimator__n_estimators': [75],\n",
    "          'estimator__criterion': ['gini', 'entropy'],\n",
    "          'estimator__min_samples_leaf': [1, 2],\n",
    "          'estimator__random_state': [1]}\n",
    "\n",
    "grid = GridSearchCV(pipe, \n",
    "                    params, \n",
    "                    n_jobs=-1,\n",
    "                    verbose=True,\n",
    "                    scoring='f1')\n",
    "grid.fit(X, y)\n",
    "\n",
    "print(\"best parameters:\", grid.best_params_)"
   ]
  },
  {
   "cell_type": "code",
   "execution_count": 6,
   "metadata": {},
   "outputs": [
    {
     "data": {
      "text/plain": [
       "Text(0, 0.5, 'F1 Score')"
      ]
     },
     "execution_count": 6,
     "metadata": {},
     "output_type": "execute_result"
    },
    {
     "data": {
      "image/png": "[encoded data removed]",
      "text/plain": [
       "<Figure size 1080x360 with 1 Axes>"
      ]
     },
     "metadata": {
      "needs_background": "light"
     },
     "output_type": "display_data"
    }
   ],
   "source": [
    "best_rf_model = grid.best_estimator_\n",
    "default_rf = RandomForestClassifier()\n",
    "\n",
    "models = [default_rf, best_rf_model]\n",
    "\n",
    "\n",
    "fig, ax = plt.subplots(figsize=(15, 5))\n",
    "plot_cross_val(models, X, y, ax, names=['Default RF', 'Optimized RF'], sampling_method=None )\n",
    "ax.set_title('Random Forest Gridsearch', fontsize=20)\n",
    "ax.legend()\n",
    "ax.set_ylim(-0.05, 1.05)\n",
    "ax.set_xticks([1, 2, 3, 4, 5])\n",
    "ax.set_xlabel('# of Folds', fontsize=20)\n",
    "ax.set_ylabel('F1 Score', fontsize=20)"
   ]
  },
  {
   "cell_type": "code",
   "execution_count": 14,
   "metadata": {},
   "outputs": [
    {
     "name": "stdout",
     "output_type": "stream",
     "text": [
      "Fitting 5 folds for each of 8 candidates, totalling 40 fits\n"
     ]
    },
    {
     "name": "stderr",
     "output_type": "stream",
     "text": [
      "[Parallel(n_jobs=-1)]: Using backend LokyBackend with 8 concurrent workers.\n",
      "[Parallel(n_jobs=-1)]: Done  40 out of  40 | elapsed:   54.8s finished\n"
     ]
    },
    {
     "name": "stdout",
     "output_type": "stream",
     "text": [
      "best parameters: {'estimator__loss': 'deviance', 'estimator__max_depth': 3, 'estimator__max_features': 'sqrt', 'estimator__min_samples_leaf': 1, 'estimator__n_estimators': 200, 'estimator__random_state': 1}\n"
     ]
    }
   ],
   "source": [
    "pipe = Pipeline(steps=[('estimator', GradientBoostingClassifier())])\n",
    "\n",
    "\n",
    "params = {'estimator__max_depth': [3],\n",
    "          'estimator__max_features': ['sqrt', 'log2'],\n",
    "          'estimator__n_estimators': [200],\n",
    "          'estimator__loss': ['deviance', 'exponential'],\n",
    "          'estimator__min_samples_leaf': [1, 2],\n",
    "          'estimator__random_state': [1]}\n",
    "\n",
    "grid = GridSearchCV(pipe, \n",
    "                    params, \n",
    "                    n_jobs=-1,\n",
    "                    verbose=True,\n",
    "                    scoring='f1')\n",
    "grid.fit(X, y)\n",
    "\n",
    "print(\"best parameters:\", grid.best_params_)"
   ]
  },
  {
   "cell_type": "code",
   "execution_count": 15,
   "metadata": {},
   "outputs": [
    {
     "data": {
      "text/plain": [
       "Text(0, 0.5, 'F1 Score')"
      ]
     },
     "execution_count": 15,
     "metadata": {},
     "output_type": "execute_result"
    },
    {
     "data": {
      "image/png": "[encoded data removed]",
      "text/plain": [
       "<Figure size 1080x360 with 1 Axes>"
      ]
     },
     "metadata": {
      "needs_background": "light"
     },
     "output_type": "display_data"
    }
   ],
   "source": [
    "best_gb_model = grid.best_estimator_\n",
    "default_gb = GradientBoostingClassifier()\n",
    "\n",
    "models = [default_gb, best_gb_model]\n",
    "\n",
    "\n",
    "fig, ax = plt.subplots(figsize=(15, 5))\n",
    "plot_cross_val(models, X, y, ax, names=['Default GB', 'Optimized GB'], sampling_method=None )\n",
    "ax.set_title('Gradient Boosting Gridsearch', fontsize=20)\n",
    "ax.legend()\n",
    "ax.set_ylim(-0.05, 1.05)\n",
    "ax.set_xticks([1, 2, 3, 4, 5])\n",
    "ax.set_xlabel('# of Folds', fontsize=20)\n",
    "ax.set_ylabel('F1 Score', fontsize=20)"
   ]
  },
  {
   "cell_type": "markdown",
   "metadata": {},
   "source": [
    "# Neural Net Approach"
   ]
  },
  {
   "cell_type": "code",
   "execution_count": 33,
   "metadata": {},
   "outputs": [],
   "source": [
    "import tensorflow as tf\n",
    "keras = tf.keras\n",
    "\n",
    "def recall_m(y_true, y_pred):\n",
    "    true_positives = keras.backend.sum(keras.backend.round(keras.backend.clip(y_true * y_pred, 0, 1)))\n",
    "    possible_positives = keras.backend.sum(keras.backend.round(keras.backend.clip(y_true, 0, 1)))\n",
    "    recall = true_positives / (possible_positives + keras.backend.epsilon())\n",
    "    return recall\n",
    "\n",
    "def precision_m(y_true, y_pred):\n",
    "    true_positives = keras.backend.sum(keras.backend.round(keras.backend.clip(y_true * y_pred, 0, 1)))\n",
    "    predicted_positives = keras.backend.sum(keras.backend.round(keras.backend.clip(y_pred, 0, 1)))\n",
    "    precision = true_positives / (predicted_positives + keras.backend.epsilon())\n",
    "    return precision\n",
    "\n",
    "def f1_m(y_true, y_pred):\n",
    "    \n",
    "    precision = precision_m(y_true, y_pred)\n",
    "    recall = recall_m(y_true, y_pred)\n",
    "    return 2*((precision*recall)/(precision+recall+keras.backend.epsilon()))"
   ]
  },
  {
   "cell_type": "code",
   "execution_count": 34,
   "metadata": {},
   "outputs": [
    {
     "data": {
      "text/plain": [
       "(94470, 22)"
      ]
     },
     "execution_count": 34,
     "metadata": {},
     "output_type": "execute_result"
    }
   ],
   "source": [
    "X.shape"
   ]
  },
  {
   "cell_type": "code",
   "execution_count": 157,
   "metadata": {},
   "outputs": [],
   "source": [
    "# define the keras model\n",
    "model = keras.models.Sequential()\n",
    "model.add(keras.layers.Dense(20, input_dim=X.shape[1], activation='relu'))\n",
    "model.add(keras.layers.Dense(20, activation='relu'))\n",
    "# model.add(keras.layers.Dense(20, activation='relu'))\n",
    "model.add(keras.layers.Dense(10, activation='relu'))\n",
    "model.add(keras.layers.Dense(1, activation='sigmoid'))"
   ]
  },
  {
   "cell_type": "code",
   "execution_count": 160,
   "metadata": {},
   "outputs": [
    {
     "name": "stdout",
     "output_type": "stream",
     "text": [
      "Model: \"sequential_20\"\n",
      "_________________________________________________________________\n",
      "Layer (type)                 Output Shape              Param #   \n",
      "=================================================================\n",
      "dense_80 (Dense)             (None, 20)                460       \n",
      "_________________________________________________________________\n",
      "dense_81 (Dense)             (None, 20)                420       \n",
      "_________________________________________________________________\n",
      "dense_82 (Dense)             (None, 10)                210       \n",
      "_________________________________________________________________\n",
      "dense_83 (Dense)             (None, 1)                 11        \n",
      "=================================================================\n",
      "Total params: 1,101\n",
      "Trainable params: 1,101\n",
      "Non-trainable params: 0\n",
      "_________________________________________________________________\n"
     ]
    }
   ],
   "source": [
    "model.summary()"
   ]
  },
  {
   "cell_type": "code",
   "execution_count": 163,
   "metadata": {},
   "outputs": [],
   "source": [
    "model.compile(loss='binary_crossentropy', optimizer='adam', metrics=['acc', f1_m])"
   ]
  },
  {
   "cell_type": "code",
   "execution_count": 164,
   "metadata": {},
   "outputs": [
    {
     "name": "stdout",
     "output_type": "stream",
     "text": [
      "Epoch 1/150\n",
      "2362/2362 [==============================] - 3s 1ms/step - loss: 0.5008 - acc: 0.7633 - f1_m: 0.6509 - val_loss: 0.5047 - val_acc: 0.7585 - val_f1_m: 0.6500\n",
      "Epoch 2/150\n",
      "2362/2362 [==============================] - 2s 1ms/step - loss: 0.5000 - acc: 0.7636 - f1_m: 0.6523 - val_loss: 0.5056 - val_acc: 0.7586 - val_f1_m: 0.6512\n",
      "Epoch 3/150\n",
      "2362/2362 [==============================] - 2s 1ms/step - loss: 0.4997 - acc: 0.7634 - f1_m: 0.6520 - val_loss: 0.5073 - val_acc: 0.7588 - val_f1_m: 0.6516\n",
      "Epoch 4/150\n",
      "2362/2362 [==============================] - 2s 1ms/step - loss: 0.4990 - acc: 0.7634 - f1_m: 0.6505 - val_loss: 0.5043 - val_acc: 0.7572 - val_f1_m: 0.6616\n",
      "Epoch 5/150\n",
      "2362/2362 [==============================] - 2s 1ms/step - loss: 0.4992 - acc: 0.7633 - f1_m: 0.6525 - val_loss: 0.5033 - val_acc: 0.7595 - val_f1_m: 0.6518\n",
      "Epoch 6/150\n",
      "2362/2362 [==============================] - 2s 1ms/step - loss: 0.4985 - acc: 0.7635 - f1_m: 0.6532 - val_loss: 0.5048 - val_acc: 0.7582 - val_f1_m: 0.6498\n",
      "Epoch 7/150\n",
      "2362/2362 [==============================] - 2s 1ms/step - loss: 0.4983 - acc: 0.7632 - f1_m: 0.6517 - val_loss: 0.5024 - val_acc: 0.7592 - val_f1_m: 0.6522\n",
      "Epoch 8/150\n",
      "2362/2362 [==============================] - 2s 1ms/step - loss: 0.4979 - acc: 0.7644 - f1_m: 0.6512 - val_loss: 0.5029 - val_acc: 0.7589 - val_f1_m: 0.6577\n",
      "Epoch 9/150\n",
      "2362/2362 [==============================] - 2s 1ms/step - loss: 0.4979 - acc: 0.7640 - f1_m: 0.6518 - val_loss: 0.5027 - val_acc: 0.7594 - val_f1_m: 0.6532\n",
      "Epoch 10/150\n",
      "2362/2362 [==============================] - 2s 1ms/step - loss: 0.4978 - acc: 0.7636 - f1_m: 0.6510 - val_loss: 0.5030 - val_acc: 0.7587 - val_f1_m: 0.6513\n",
      "Epoch 11/150\n",
      "2362/2362 [==============================] - 2s 1ms/step - loss: 0.4978 - acc: 0.7642 - f1_m: 0.6505 - val_loss: 0.5029 - val_acc: 0.7582 - val_f1_m: 0.6548\n",
      "Epoch 12/150\n",
      "2362/2362 [==============================] - 2s 1ms/step - loss: 0.4976 - acc: 0.7637 - f1_m: 0.6531 - val_loss: 0.5024 - val_acc: 0.7583 - val_f1_m: 0.6514\n",
      "Epoch 13/150\n",
      "2362/2362 [==============================] - 2s 1ms/step - loss: 0.4975 - acc: 0.7636 - f1_m: 0.6521 - val_loss: 0.5034 - val_acc: 0.7595 - val_f1_m: 0.6516\n",
      "Epoch 14/150\n",
      "2362/2362 [==============================] - 3s 1ms/step - loss: 0.4973 - acc: 0.7639 - f1_m: 0.6518 - val_loss: 0.5025 - val_acc: 0.7580 - val_f1_m: 0.6506\n",
      "Epoch 15/150\n",
      "2362/2362 [==============================] - 2s 1ms/step - loss: 0.4971 - acc: 0.7639 - f1_m: 0.6510 - val_loss: 0.5040 - val_acc: 0.7587 - val_f1_m: 0.6478\n",
      "Epoch 16/150\n",
      "2362/2362 [==============================] - 2s 1ms/step - loss: 0.4970 - acc: 0.7644 - f1_m: 0.6527 - val_loss: 0.5034 - val_acc: 0.7587 - val_f1_m: 0.6533\n",
      "Epoch 17/150\n",
      "2362/2362 [==============================] - 2s 985us/step - loss: 0.4969 - acc: 0.7637 - f1_m: 0.6510 - val_loss: 0.5027 - val_acc: 0.7596 - val_f1_m: 0.6515\n",
      "Epoch 18/150\n",
      "2362/2362 [==============================] - 2s 1ms/step - loss: 0.4966 - acc: 0.7639 - f1_m: 0.6510 - val_loss: 0.5057 - val_acc: 0.7573 - val_f1_m: 0.6594\n",
      "Epoch 19/150\n",
      "2362/2362 [==============================] - 3s 1ms/step - loss: 0.4966 - acc: 0.7639 - f1_m: 0.6519 - val_loss: 0.5026 - val_acc: 0.7600 - val_f1_m: 0.6531\n",
      "Epoch 20/150\n",
      "2362/2362 [==============================] - 3s 1ms/step - loss: 0.4966 - acc: 0.7638 - f1_m: 0.6534 - val_loss: 0.5029 - val_acc: 0.7592 - val_f1_m: 0.6520\n",
      "Epoch 21/150\n",
      "2362/2362 [==============================] - 3s 1ms/step - loss: 0.4964 - acc: 0.7643 - f1_m: 0.6535 - val_loss: 0.5018 - val_acc: 0.7599 - val_f1_m: 0.6537\n",
      "Epoch 22/150\n",
      "2362/2362 [==============================] - 3s 1ms/step - loss: 0.4963 - acc: 0.7639 - f1_m: 0.6531 - val_loss: 0.5023 - val_acc: 0.7590 - val_f1_m: 0.6579\n",
      "Epoch 23/150\n",
      "2362/2362 [==============================] - 2s 1ms/step - loss: 0.4964 - acc: 0.7643 - f1_m: 0.6545 - val_loss: 0.5017 - val_acc: 0.7591 - val_f1_m: 0.6505\n",
      "Epoch 24/150\n",
      "2362/2362 [==============================] - 3s 1ms/step - loss: 0.4960 - acc: 0.7643 - f1_m: 0.6524 - val_loss: 0.5021 - val_acc: 0.7592 - val_f1_m: 0.6510\n",
      "Epoch 25/150\n",
      "2362/2362 [==============================] - 3s 1ms/step - loss: 0.4961 - acc: 0.7642 - f1_m: 0.6532 - val_loss: 0.5027 - val_acc: 0.7589 - val_f1_m: 0.6554\n",
      "Epoch 26/150\n",
      "2362/2362 [==============================] - 2s 1ms/step - loss: 0.4960 - acc: 0.7644 - f1_m: 0.6527 - val_loss: 0.5014 - val_acc: 0.7599 - val_f1_m: 0.6574\n",
      "Epoch 27/150\n",
      "2362/2362 [==============================] - 2s 1ms/step - loss: 0.4960 - acc: 0.7641 - f1_m: 0.6531 - val_loss: 0.5012 - val_acc: 0.7601 - val_f1_m: 0.6580\n",
      "Epoch 28/150\n",
      "2362/2362 [==============================] - 2s 1ms/step - loss: 0.4959 - acc: 0.7640 - f1_m: 0.6517 - val_loss: 0.5007 - val_acc: 0.7592 - val_f1_m: 0.6568\n",
      "Epoch 29/150\n",
      "2362/2362 [==============================] - 3s 1ms/step - loss: 0.4958 - acc: 0.7642 - f1_m: 0.6526 - val_loss: 0.5010 - val_acc: 0.7597 - val_f1_m: 0.6554\n",
      "Epoch 30/150\n",
      "2362/2362 [==============================] - 3s 1ms/step - loss: 0.4959 - acc: 0.7638 - f1_m: 0.6530 - val_loss: 0.5009 - val_acc: 0.7597 - val_f1_m: 0.6515\n",
      "Epoch 31/150\n",
      "2362/2362 [==============================] - 3s 1ms/step - loss: 0.4956 - acc: 0.7642 - f1_m: 0.6539 - val_loss: 0.5009 - val_acc: 0.7594 - val_f1_m: 0.6573\n",
      "Epoch 32/150\n",
      "2362/2362 [==============================] - 3s 1ms/step - loss: 0.4956 - acc: 0.7646 - f1_m: 0.6554 - val_loss: 0.5025 - val_acc: 0.7589 - val_f1_m: 0.6502\n",
      "Epoch 33/150\n",
      "2362/2362 [==============================] - 3s 1ms/step - loss: 0.4956 - acc: 0.7644 - f1_m: 0.6538 - val_loss: 0.5005 - val_acc: 0.7596 - val_f1_m: 0.6529\n",
      "Epoch 34/150\n",
      "1890/2362 [=======================>......] - ETA: 0s - loss: 0.4932 - acc: 0.7662 - f1_m: 0.6567 ETA: 1s - loss: 0.493"
     ]
    },
    {
     "ename": "KeyboardInterrupt",
     "evalue": "",
     "output_type": "error",
     "traceback": [
      "\u001b[0;31m---------------------------------------------------------------------------\u001b[0m",
      "\u001b[0;31mKeyboardInterrupt\u001b[0m                         Traceback (most recent call last)",
      "\u001b[0;32m<ipython-input-164-1f0331f5c5ca>\u001b[0m in \u001b[0;36m<module>\u001b[0;34m\u001b[0m\n\u001b[1;32m      7\u001b[0m                  \u001b[0mbatch_size\u001b[0m\u001b[0;34m=\u001b[0m\u001b[0;36m32\u001b[0m\u001b[0;34m,\u001b[0m\u001b[0;34m\u001b[0m\u001b[0;34m\u001b[0m\u001b[0m\n\u001b[1;32m      8\u001b[0m                  \u001b[0mcallbacks\u001b[0m\u001b[0;34m=\u001b[0m\u001b[0;34m[\u001b[0m\u001b[0mkeras\u001b[0m\u001b[0;34m.\u001b[0m\u001b[0mcallbacks\u001b[0m\u001b[0;34m.\u001b[0m\u001b[0mHistory\u001b[0m\u001b[0;34m(\u001b[0m\u001b[0;34m)\u001b[0m\u001b[0;34m]\u001b[0m\u001b[0;34m,\u001b[0m\u001b[0;34m\u001b[0m\u001b[0;34m\u001b[0m\u001b[0m\n\u001b[0;32m----> 9\u001b[0;31m                  verbose=1)\n\u001b[0m",
      "\u001b[0;32m~/opt/anaconda3/lib/python3.7/site-packages/tensorflow/python/keras/engine/training.py\u001b[0m in \u001b[0;36m_method_wrapper\u001b[0;34m(self, *args, **kwargs)\u001b[0m\n\u001b[1;32m    106\u001b[0m   \u001b[0;32mdef\u001b[0m \u001b[0m_method_wrapper\u001b[0m\u001b[0;34m(\u001b[0m\u001b[0mself\u001b[0m\u001b[0;34m,\u001b[0m \u001b[0;34m*\u001b[0m\u001b[0margs\u001b[0m\u001b[0;34m,\u001b[0m \u001b[0;34m**\u001b[0m\u001b[0mkwargs\u001b[0m\u001b[0;34m)\u001b[0m\u001b[0;34m:\u001b[0m\u001b[0;34m\u001b[0m\u001b[0;34m\u001b[0m\u001b[0m\n\u001b[1;32m    107\u001b[0m     \u001b[0;32mif\u001b[0m \u001b[0;32mnot\u001b[0m \u001b[0mself\u001b[0m\u001b[0;34m.\u001b[0m\u001b[0m_in_multi_worker_mode\u001b[0m\u001b[0;34m(\u001b[0m\u001b[0;34m)\u001b[0m\u001b[0;34m:\u001b[0m  \u001b[0;31m# pylint: disable=protected-access\u001b[0m\u001b[0;34m\u001b[0m\u001b[0;34m\u001b[0m\u001b[0m\n\u001b[0;32m--> 108\u001b[0;31m       \u001b[0;32mreturn\u001b[0m \u001b[0mmethod\u001b[0m\u001b[0;34m(\u001b[0m\u001b[0mself\u001b[0m\u001b[0;34m,\u001b[0m \u001b[0;34m*\u001b[0m\u001b[0margs\u001b[0m\u001b[0;34m,\u001b[0m \u001b[0;34m**\u001b[0m\u001b[0mkwargs\u001b[0m\u001b[0;34m)\u001b[0m\u001b[0;34m\u001b[0m\u001b[0;34m\u001b[0m\u001b[0m\n\u001b[0m\u001b[1;32m    109\u001b[0m \u001b[0;34m\u001b[0m\u001b[0m\n\u001b[1;32m    110\u001b[0m     \u001b[0;31m# Running inside `run_distribute_coordinator` already.\u001b[0m\u001b[0;34m\u001b[0m\u001b[0;34m\u001b[0m\u001b[0;34m\u001b[0m\u001b[0m\n",
      "\u001b[0;32m~/opt/anaconda3/lib/python3.7/site-packages/tensorflow/python/keras/engine/training.py\u001b[0m in \u001b[0;36mfit\u001b[0;34m(self, x, y, batch_size, epochs, verbose, callbacks, validation_split, validation_data, shuffle, class_weight, sample_weight, initial_epoch, steps_per_epoch, validation_steps, validation_batch_size, validation_freq, max_queue_size, workers, use_multiprocessing)\u001b[0m\n\u001b[1;32m   1096\u001b[0m                 batch_size=batch_size):\n\u001b[1;32m   1097\u001b[0m               \u001b[0mcallbacks\u001b[0m\u001b[0;34m.\u001b[0m\u001b[0mon_train_batch_begin\u001b[0m\u001b[0;34m(\u001b[0m\u001b[0mstep\u001b[0m\u001b[0;34m)\u001b[0m\u001b[0;34m\u001b[0m\u001b[0;34m\u001b[0m\u001b[0m\n\u001b[0;32m-> 1098\u001b[0;31m               \u001b[0mtmp_logs\u001b[0m \u001b[0;34m=\u001b[0m \u001b[0mtrain_function\u001b[0m\u001b[0;34m(\u001b[0m\u001b[0miterator\u001b[0m\u001b[0;34m)\u001b[0m\u001b[0;34m\u001b[0m\u001b[0;34m\u001b[0m\u001b[0m\n\u001b[0m\u001b[1;32m   1099\u001b[0m               \u001b[0;32mif\u001b[0m \u001b[0mdata_handler\u001b[0m\u001b[0;34m.\u001b[0m\u001b[0mshould_sync\u001b[0m\u001b[0;34m:\u001b[0m\u001b[0;34m\u001b[0m\u001b[0;34m\u001b[0m\u001b[0m\n\u001b[1;32m   1100\u001b[0m                 \u001b[0mcontext\u001b[0m\u001b[0;34m.\u001b[0m\u001b[0masync_wait\u001b[0m\u001b[0;34m(\u001b[0m\u001b[0;34m)\u001b[0m\u001b[0;34m\u001b[0m\u001b[0;34m\u001b[0m\u001b[0m\n",
      "\u001b[0;32m~/opt/anaconda3/lib/python3.7/site-packages/tensorflow/python/eager/def_function.py\u001b[0m in \u001b[0;36m__call__\u001b[0;34m(self, *args, **kwds)\u001b[0m\n\u001b[1;32m    778\u001b[0m       \u001b[0;32melse\u001b[0m\u001b[0;34m:\u001b[0m\u001b[0;34m\u001b[0m\u001b[0;34m\u001b[0m\u001b[0m\n\u001b[1;32m    779\u001b[0m         \u001b[0mcompiler\u001b[0m \u001b[0;34m=\u001b[0m \u001b[0;34m\"nonXla\"\u001b[0m\u001b[0;34m\u001b[0m\u001b[0;34m\u001b[0m\u001b[0m\n\u001b[0;32m--> 780\u001b[0;31m         \u001b[0mresult\u001b[0m \u001b[0;34m=\u001b[0m \u001b[0mself\u001b[0m\u001b[0;34m.\u001b[0m\u001b[0m_call\u001b[0m\u001b[0;34m(\u001b[0m\u001b[0;34m*\u001b[0m\u001b[0margs\u001b[0m\u001b[0;34m,\u001b[0m \u001b[0;34m**\u001b[0m\u001b[0mkwds\u001b[0m\u001b[0;34m)\u001b[0m\u001b[0;34m\u001b[0m\u001b[0;34m\u001b[0m\u001b[0m\n\u001b[0m\u001b[1;32m    781\u001b[0m \u001b[0;34m\u001b[0m\u001b[0m\n\u001b[1;32m    782\u001b[0m       \u001b[0mnew_tracing_count\u001b[0m \u001b[0;34m=\u001b[0m \u001b[0mself\u001b[0m\u001b[0;34m.\u001b[0m\u001b[0m_get_tracing_count\u001b[0m\u001b[0;34m(\u001b[0m\u001b[0;34m)\u001b[0m\u001b[0;34m\u001b[0m\u001b[0;34m\u001b[0m\u001b[0m\n",
      "\u001b[0;32m~/opt/anaconda3/lib/python3.7/site-packages/tensorflow/python/eager/def_function.py\u001b[0m in \u001b[0;36m_call\u001b[0;34m(self, *args, **kwds)\u001b[0m\n\u001b[1;32m    805\u001b[0m       \u001b[0;31m# In this case we have created variables on the first call, so we run the\u001b[0m\u001b[0;34m\u001b[0m\u001b[0;34m\u001b[0m\u001b[0;34m\u001b[0m\u001b[0m\n\u001b[1;32m    806\u001b[0m       \u001b[0;31m# defunned version which is guaranteed to never create variables.\u001b[0m\u001b[0;34m\u001b[0m\u001b[0;34m\u001b[0m\u001b[0;34m\u001b[0m\u001b[0m\n\u001b[0;32m--> 807\u001b[0;31m       \u001b[0;32mreturn\u001b[0m \u001b[0mself\u001b[0m\u001b[0;34m.\u001b[0m\u001b[0m_stateless_fn\u001b[0m\u001b[0;34m(\u001b[0m\u001b[0;34m*\u001b[0m\u001b[0margs\u001b[0m\u001b[0;34m,\u001b[0m \u001b[0;34m**\u001b[0m\u001b[0mkwds\u001b[0m\u001b[0;34m)\u001b[0m  \u001b[0;31m# pylint: disable=not-callable\u001b[0m\u001b[0;34m\u001b[0m\u001b[0;34m\u001b[0m\u001b[0m\n\u001b[0m\u001b[1;32m    808\u001b[0m     \u001b[0;32melif\u001b[0m \u001b[0mself\u001b[0m\u001b[0;34m.\u001b[0m\u001b[0m_stateful_fn\u001b[0m \u001b[0;32mis\u001b[0m \u001b[0;32mnot\u001b[0m \u001b[0;32mNone\u001b[0m\u001b[0;34m:\u001b[0m\u001b[0;34m\u001b[0m\u001b[0;34m\u001b[0m\u001b[0m\n\u001b[1;32m    809\u001b[0m       \u001b[0;31m# Release the lock early so that multiple threads can perform the call\u001b[0m\u001b[0;34m\u001b[0m\u001b[0;34m\u001b[0m\u001b[0;34m\u001b[0m\u001b[0m\n",
      "\u001b[0;32m~/opt/anaconda3/lib/python3.7/site-packages/tensorflow/python/eager/function.py\u001b[0m in \u001b[0;36m__call__\u001b[0;34m(self, *args, **kwargs)\u001b[0m\n\u001b[1;32m   2827\u001b[0m     \u001b[0;32mwith\u001b[0m \u001b[0mself\u001b[0m\u001b[0;34m.\u001b[0m\u001b[0m_lock\u001b[0m\u001b[0;34m:\u001b[0m\u001b[0;34m\u001b[0m\u001b[0;34m\u001b[0m\u001b[0m\n\u001b[1;32m   2828\u001b[0m       \u001b[0mgraph_function\u001b[0m\u001b[0;34m,\u001b[0m \u001b[0margs\u001b[0m\u001b[0;34m,\u001b[0m \u001b[0mkwargs\u001b[0m \u001b[0;34m=\u001b[0m \u001b[0mself\u001b[0m\u001b[0;34m.\u001b[0m\u001b[0m_maybe_define_function\u001b[0m\u001b[0;34m(\u001b[0m\u001b[0margs\u001b[0m\u001b[0;34m,\u001b[0m \u001b[0mkwargs\u001b[0m\u001b[0;34m)\u001b[0m\u001b[0;34m\u001b[0m\u001b[0;34m\u001b[0m\u001b[0m\n\u001b[0;32m-> 2829\u001b[0;31m     \u001b[0;32mreturn\u001b[0m \u001b[0mgraph_function\u001b[0m\u001b[0;34m.\u001b[0m\u001b[0m_filtered_call\u001b[0m\u001b[0;34m(\u001b[0m\u001b[0margs\u001b[0m\u001b[0;34m,\u001b[0m \u001b[0mkwargs\u001b[0m\u001b[0;34m)\u001b[0m  \u001b[0;31m# pylint: disable=protected-access\u001b[0m\u001b[0;34m\u001b[0m\u001b[0;34m\u001b[0m\u001b[0m\n\u001b[0m\u001b[1;32m   2830\u001b[0m \u001b[0;34m\u001b[0m\u001b[0m\n\u001b[1;32m   2831\u001b[0m   \u001b[0;34m@\u001b[0m\u001b[0mproperty\u001b[0m\u001b[0;34m\u001b[0m\u001b[0;34m\u001b[0m\u001b[0m\n",
      "\u001b[0;32m~/opt/anaconda3/lib/python3.7/site-packages/tensorflow/python/eager/function.py\u001b[0m in \u001b[0;36m_filtered_call\u001b[0;34m(self, args, kwargs, cancellation_manager)\u001b[0m\n\u001b[1;32m   1846\u001b[0m                            resource_variable_ops.BaseResourceVariable))],\n\u001b[1;32m   1847\u001b[0m         \u001b[0mcaptured_inputs\u001b[0m\u001b[0;34m=\u001b[0m\u001b[0mself\u001b[0m\u001b[0;34m.\u001b[0m\u001b[0mcaptured_inputs\u001b[0m\u001b[0;34m,\u001b[0m\u001b[0;34m\u001b[0m\u001b[0;34m\u001b[0m\u001b[0m\n\u001b[0;32m-> 1848\u001b[0;31m         cancellation_manager=cancellation_manager)\n\u001b[0m\u001b[1;32m   1849\u001b[0m \u001b[0;34m\u001b[0m\u001b[0m\n\u001b[1;32m   1850\u001b[0m   \u001b[0;32mdef\u001b[0m \u001b[0m_call_flat\u001b[0m\u001b[0;34m(\u001b[0m\u001b[0mself\u001b[0m\u001b[0;34m,\u001b[0m \u001b[0margs\u001b[0m\u001b[0;34m,\u001b[0m \u001b[0mcaptured_inputs\u001b[0m\u001b[0;34m,\u001b[0m \u001b[0mcancellation_manager\u001b[0m\u001b[0;34m=\u001b[0m\u001b[0;32mNone\u001b[0m\u001b[0;34m)\u001b[0m\u001b[0;34m:\u001b[0m\u001b[0;34m\u001b[0m\u001b[0;34m\u001b[0m\u001b[0m\n",
      "\u001b[0;32m~/opt/anaconda3/lib/python3.7/site-packages/tensorflow/python/eager/function.py\u001b[0m in \u001b[0;36m_call_flat\u001b[0;34m(self, args, captured_inputs, cancellation_manager)\u001b[0m\n\u001b[1;32m   1922\u001b[0m       \u001b[0;31m# No tape is watching; skip to running the function.\u001b[0m\u001b[0;34m\u001b[0m\u001b[0;34m\u001b[0m\u001b[0;34m\u001b[0m\u001b[0m\n\u001b[1;32m   1923\u001b[0m       return self._build_call_outputs(self._inference_function.call(\n\u001b[0;32m-> 1924\u001b[0;31m           ctx, args, cancellation_manager=cancellation_manager))\n\u001b[0m\u001b[1;32m   1925\u001b[0m     forward_backward = self._select_forward_and_backward_functions(\n\u001b[1;32m   1926\u001b[0m         \u001b[0margs\u001b[0m\u001b[0;34m,\u001b[0m\u001b[0;34m\u001b[0m\u001b[0;34m\u001b[0m\u001b[0m\n",
      "\u001b[0;32m~/opt/anaconda3/lib/python3.7/site-packages/tensorflow/python/eager/function.py\u001b[0m in \u001b[0;36mcall\u001b[0;34m(self, ctx, args, cancellation_manager)\u001b[0m\n\u001b[1;32m    548\u001b[0m               \u001b[0minputs\u001b[0m\u001b[0;34m=\u001b[0m\u001b[0margs\u001b[0m\u001b[0;34m,\u001b[0m\u001b[0;34m\u001b[0m\u001b[0;34m\u001b[0m\u001b[0m\n\u001b[1;32m    549\u001b[0m               \u001b[0mattrs\u001b[0m\u001b[0;34m=\u001b[0m\u001b[0mattrs\u001b[0m\u001b[0;34m,\u001b[0m\u001b[0;34m\u001b[0m\u001b[0;34m\u001b[0m\u001b[0m\n\u001b[0;32m--> 550\u001b[0;31m               ctx=ctx)\n\u001b[0m\u001b[1;32m    551\u001b[0m         \u001b[0;32melse\u001b[0m\u001b[0;34m:\u001b[0m\u001b[0;34m\u001b[0m\u001b[0;34m\u001b[0m\u001b[0m\n\u001b[1;32m    552\u001b[0m           outputs = execute.execute_with_cancellation(\n",
      "\u001b[0;32m~/opt/anaconda3/lib/python3.7/site-packages/tensorflow/python/eager/execute.py\u001b[0m in \u001b[0;36mquick_execute\u001b[0;34m(op_name, num_outputs, inputs, attrs, ctx, name)\u001b[0m\n\u001b[1;32m     58\u001b[0m     \u001b[0mctx\u001b[0m\u001b[0;34m.\u001b[0m\u001b[0mensure_initialized\u001b[0m\u001b[0;34m(\u001b[0m\u001b[0;34m)\u001b[0m\u001b[0;34m\u001b[0m\u001b[0;34m\u001b[0m\u001b[0m\n\u001b[1;32m     59\u001b[0m     tensors = pywrap_tfe.TFE_Py_Execute(ctx._handle, device_name, op_name,\n\u001b[0;32m---> 60\u001b[0;31m                                         inputs, attrs, num_outputs)\n\u001b[0m\u001b[1;32m     61\u001b[0m   \u001b[0;32mexcept\u001b[0m \u001b[0mcore\u001b[0m\u001b[0;34m.\u001b[0m\u001b[0m_NotOkStatusException\u001b[0m \u001b[0;32mas\u001b[0m \u001b[0me\u001b[0m\u001b[0;34m:\u001b[0m\u001b[0;34m\u001b[0m\u001b[0;34m\u001b[0m\u001b[0m\n\u001b[1;32m     62\u001b[0m     \u001b[0;32mif\u001b[0m \u001b[0mname\u001b[0m \u001b[0;32mis\u001b[0m \u001b[0;32mnot\u001b[0m \u001b[0;32mNone\u001b[0m\u001b[0;34m:\u001b[0m\u001b[0;34m\u001b[0m\u001b[0;34m\u001b[0m\u001b[0m\n",
      "\u001b[0;31mKeyboardInterrupt\u001b[0m: "
     ]
    }
   ],
   "source": [
    "X_train, X_test, y_train, y_test = train_test_split(X, y, test_size=0.2)\n",
    "\n",
    "n_epochs = 150\n",
    "hist = model.fit(X_train, y_train, \n",
    "                 validation_data=(X_test, y_test),\n",
    "                 epochs=n_epochs, \n",
    "                 batch_size=32, \n",
    "                 callbacks=[keras.callbacks.History()], \n",
    "                 verbose=1)"
   ]
  },
  {
   "cell_type": "code",
   "execution_count": null,
   "metadata": {
    "scrolled": true
   },
   "outputs": [],
   "source": [
    "fig, ax = plt.subplots(3, figsize=(12, 24))\n",
    "\n",
    "ax[0].plot(np.arange(n_epochs), hist.history['loss'], label='Training Loss')\n",
    "ax[0].plot(np.arange(n_epochs), hist.history['val_loss'], label='Validation Loss')\n",
    "ax[0].legend()\n",
    "ax[0].set_title('Loss', fontsize=20)\n",
    "ax[0].set_xlabel('Epochs', fontsize=20)\n",
    "\n",
    "ax[1].plot(np.arange(n_epochs), hist.history['acc'], label='Training Accuracy')\n",
    "ax[1].plot(np.arange(n_epochs), hist.history['val_acc'], label='Validation Accuracy')\n",
    "ax[1].legend()\n",
    "ax[1].set_title('Accuracy', fontsize=20)\n",
    "ax[1].set_xlabel('Epochs', fontsize=20)\n",
    "ax[1].set_ylim(0, 1)\n",
    "\n",
    "ax[2].plot(np.arange(n_epochs), hist.history['f1_m'], label='Training F1')\n",
    "ax[2].plot(np.arange(n_epochs), hist.history['val_f1_m'], label='Validation F1')\n",
    "ax[2].legend()\n",
    "ax[2].set_title('F1 Score', fontsize=20)\n",
    "ax[2].set_xlabel('Epochs', fontsize=20)\n",
    "ax[2].set_ylim(0, 1)"
   ]
  },
  {
   "cell_type": "code",
   "execution_count": 143,
   "metadata": {},
   "outputs": [
    {
     "data": {
      "text/plain": [
       "0.6629016255819278"
      ]
     },
     "execution_count": 143,
     "metadata": {},
     "output_type": "execute_result"
    }
   ],
   "source": [
    "y_preds = model.predict(X_test)\n",
    "y_preds = (y_preds > 0.5) * 1\n",
    "f1_score(y_test, y_preds)"
   ]
  },
  {
   "cell_type": "code",
   "execution_count": 144,
   "metadata": {},
   "outputs": [
    {
     "data": {
      "text/plain": [
       "(array([0, 1]), array([12767,  6127]))"
      ]
     },
     "execution_count": 144,
     "metadata": {},
     "output_type": "execute_result"
    }
   ],
   "source": [
    "np.unique(y_preds, return_counts=True)"
   ]
  },
  {
   "cell_type": "code",
   "execution_count": 16,
   "metadata": {},
   "outputs": [
    {
     "data": {
      "text/plain": [
       "Text(0, 0.5, 'Precision/Recall')"
      ]
     },
     "execution_count": 16,
     "metadata": {},
     "output_type": "execute_result"
    },
    {
     "data": {
      "image/png": "[encoded data removed]",
      "text/plain": [
       "<Figure size 1080x360 with 1 Axes>"
      ]
     },
     "metadata": {
      "needs_background": "light"
     },
     "output_type": "display_data"
    }
   ],
   "source": [
    "best_rf_model = RandomForestClassifier(criterion='entropy', max_depth=10, \n",
    "                                       max_features='sqrt', n_estimators=75)\n",
    "\n",
    "best_gb_model = GradientBoostingClassifier(loss='deviance', \n",
    "                                           max_depth=3, \n",
    "                                           max_features='sqrt', \n",
    "                                           n_estimators=200,\n",
    "                                           learning_rate=0.01)\n",
    "\n",
    "models = [best_rf_model, best_gb_model, LogisticRegression()]\n",
    "\n",
    "\n",
    "fig, ax = plt.subplots(figsize=(15, 5))\n",
    "plot_cross_val(models, X, y, ax, names=['Optimized RF', 'Optimized GB', 'Logistic Regression'], sampling_method=None )\n",
    "ax.set_title('Tuned Models', fontsize=20)\n",
    "ax.legend()\n",
    "ax.set_ylim(-0.05, 1.05)\n",
    "ax.set_xticks([1, 2, 3, 4, 5])\n",
    "ax.set_xlabel('# of Folds', fontsize=20)\n",
    "ax.set_ylabel('Precision/Recall', fontsize=20)"
   ]
  },
  {
   "cell_type": "code",
   "execution_count": null,
   "metadata": {},
   "outputs": [],
   "source": []
  }
 ],
 "metadata": {
  "kernelspec": {
   "display_name": "Python 3",
   "language": "python",
   "name": "python3"
  },
  "language_info": {
   "codemirror_mode": {
    "name": "ipython",
    "version": 3
   },
   "file_extension": ".py",
   "mimetype": "text/x-python",
   "name": "python",
   "nbconvert_exporter": "python",
   "pygments_lexer": "ipython3",
   "version": "3.7.4"
  }
 },
 "nbformat": 4,
 "nbformat_minor": 2
}
