{
 "cells": [
  {
   "cell_type": "code",
   "execution_count": 1,
   "metadata": {},
   "outputs": [
    {
     "name": "stderr",
     "output_type": "stream",
     "text": [
      "/Users/raficg/opt/anaconda3/lib/python3.7/site-packages/statsmodels/tools/_testing.py:19: FutureWarning: pandas.util.testing is deprecated. Use the functions in the public API at pandas.testing instead.\n",
      "  import pandas.util.testing as tm\n"
     ]
    }
   ],
   "source": [
    "import psycopg2 as pg2\n",
    "import pandas as pd\n",
    "import time\n",
    "import numpy as np\n",
    "import sys\n",
    "import datetime\n",
    "import pickle\n",
    "\n",
    "from src.helpers import *\n",
    "from src.model import Model"
   ]
  },
  {
   "cell_type": "code",
   "execution_count": 14,
   "metadata": {},
   "outputs": [],
   "source": [
    "data = pd.read_csv('data/test/dates.csv')"
   ]
  },
  {
   "cell_type": "code",
   "execution_count": 15,
   "metadata": {},
   "outputs": [],
   "source": [
    "X, y = clean_data(data)"
   ]
  },
  {
   "cell_type": "code",
   "execution_count": 16,
   "metadata": {},
   "outputs": [
    {
     "data": {
      "text/plain": [
       "(10238, 20)"
      ]
     },
     "execution_count": 16,
     "metadata": {},
     "output_type": "execute_result"
    }
   ],
   "source": [
    "X.shape"
   ]
  },
  {
   "cell_type": "code",
   "execution_count": null,
   "metadata": {},
   "outputs": [],
   "source": [
    "query = 'CREATE TABLE reservations (\\n'\n",
    "for col, t in zip(data.dtypes.index, data.dtypes.values):\n",
    "    query += col + ' '\n",
    "    if t == int:\n",
    "        query += 'INTEGER,\\n'\n",
    "    elif t == float:\n",
    "        query += 'DECIMAL(5,2),\\n'\n",
    "    else:\n",
    "        query += 'VARCHAR(50),\\n'\n",
    "query += ');'"
   ]
  },
  {
   "cell_type": "code",
   "execution_count": 4,
   "metadata": {},
   "outputs": [],
   "source": [
    "query = 'CREATE TABLE reservations (\\nid INTEGER,\\nhotel VARCHAR(50),\\ntimestamp INTEGER,\\nis_canceled INTEGER,\\nlead_time INTEGER,\\narrival_date_year INTEGER,\\narrival_date_month VARCHAR(50),\\narrival_date_week_number INTEGER,\\narrival_date_day_of_month INTEGER,\\nstays_in_weekend_nights INTEGER,\\nstays_in_week_nights INTEGER,\\nadults INTEGER,\\nchildren DECIMAL(5,2),\\nbabies INTEGER,\\nmeal VARCHAR(50),\\ncountry VARCHAR(50),\\nmarket_segment VARCHAR(50),\\ndistribution_channel VARCHAR(50),\\nis_repeated_guest INTEGER,\\nprevious_cancellations INTEGER,\\nprevious_bookings_not_canceled INTEGER,\\nreserved_room_type VARCHAR(50),\\nassigned_room_type VARCHAR(50),\\nbooking_changes INTEGER,\\ndeposit_type VARCHAR(50),\\nagent DECIMAL(5,2),\\ncompany DECIMAL(5,2),\\ndays_in_waiting_list INTEGER,\\ncustomer_type VARCHAR(50),\\nadr DECIMAL(5,2),\\nrequired_car_parking_spaces INTEGER,\\ntotal_of_special_requests INTEGER,\\nreservation_status VARCHAR(50),\\ntotal_nights INTEGER,\\nparty_size DECIMAL(5,2),\\nis_family INTEGER,\\nroom_difference INTEGER,\\nhad_agent INTEGER,\\nhad_company INTEGER);'"
   ]
  },
  {
   "cell_type": "code",
   "execution_count": null,
   "metadata": {},
   "outputs": [],
   "source": [
    "#COPY reservations(id, hotel, timestamp, is_canceled, lead_time, arrival_date_year, arrival_date_month, arrival_date_week_number, arrival_date_day_of_month, stays_in_weekend_nights, stays_in_week_nights, adults, children, babies, meal, country, market_segment, distribution_channel, is_repeated_guest, previous_cancellations, previous_bookings_not_canceled, reserved_room_type, assigned_room_type, booking_changes, deposit_type, agent, company, days_in_waiting_list, customer_type, adr, required_car_parking_spaces, total_of_special_requests, reservation_status, total_nights, party_size, is_family, room_difference, had_agent, had_company)\n",
    "#FROM '/home/data/Galvanize/capstones/capstone-3/hotel-cancellations/data/test/dates.csv'\n",
    "#DELIMITER ','\n",
    "#CSV HEADER;"
   ]
  },
  {
   "cell_type": "code",
   "execution_count": null,
   "metadata": {},
   "outputs": [],
   "source": []
  },
  {
   "cell_type": "code",
   "execution_count": 2,
   "metadata": {},
   "outputs": [],
   "source": [
    "conn = pg2.connect(dbname='hotels', user='postgres', \n",
    "                   host='localhost', port='5432', \n",
    "                   password='password')"
   ]
  },
  {
   "cell_type": "code",
   "execution_count": 3,
   "metadata": {},
   "outputs": [],
   "source": [
    "cur = conn.cursor()"
   ]
  },
  {
   "cell_type": "code",
   "execution_count": 4,
   "metadata": {},
   "outputs": [],
   "source": [
    "conn.autocommit = True"
   ]
  },
  {
   "cell_type": "code",
   "execution_count": 16,
   "metadata": {},
   "outputs": [],
   "source": [
    "query = '''\n",
    "    SELECT\n",
    "    id, timestamp,\n",
    "    arrival_date_year, arrival_date_month, arrival_date_day_of_month,\n",
    "    gross_profit, cancel_prob, hotel, predicted_demand, total_nights, adr\n",
    "    FROM predictions\n",
    "    ORDER BY timestamp DESC\n",
    "    '''\n",
    "cur.execute(query)\n",
    "obj = cur.fetchall()\n",
    "df = pd.DataFrame(obj, columns=['id', 'timestamp',\n",
    "                          'arrival_date_year',\n",
    "                          'arrival_date_month',\n",
    "                          'arrival_date_day_of_month',\n",
    "                          'gross_profit',\n",
    "                          'cancel_prob',\n",
    "                          'hotel',\n",
    "                          'predicted_demand', \n",
    "                          'total_nights', \n",
    "                          'adr'])"
   ]
  },
  {
   "cell_type": "code",
   "execution_count": 30,
   "metadata": {},
   "outputs": [],
   "source": [
    "profits = []\n",
    "dates = []\n",
    "for day in np.arange(1, 32):\n",
    "    adr = round(df[(df['arrival_date_month'] == 'August') & \n",
    "               (day >= df['arrival_date_day_of_month']) & \n",
    "               (day < (df['arrival_date_day_of_month'] + df['total_nights']))]['adr'].mean(), 2)\n",
    "    rooms_occ = int(df[(df['arrival_date_month'] == 'August') & \n",
    "               (day >= df['arrival_date_day_of_month']) & \n",
    "               (day < (df['arrival_date_day_of_month'] + df['total_nights']))].groupby('hotel')['predicted_demand'].mean().sum())\n",
    "    \n",
    "    profits.append(adr * rooms_occ)\n",
    "    \n",
    "    dates.append('8/' + str(day))"
   ]
  },
  {
   "cell_type": "code",
   "execution_count": 31,
   "metadata": {},
   "outputs": [
    {
     "data": {
      "text/plain": [
       "[102872.95000000001,\n",
       " 103122.0,\n",
       " 105955.68,\n",
       " 110839.1,\n",
       " 116193.45,\n",
       " 118888.6,\n",
       " 123046.0,\n",
       " 121580.40000000001,\n",
       " 123841.98000000001,\n",
       " 121929.39,\n",
       " 122543.84999999999,\n",
       " 124153.04000000001,\n",
       " 122360.04,\n",
       " 125690.16,\n",
       " 125155.68,\n",
       " 125182.35,\n",
       " 125820.64,\n",
       " 126933.93999999999,\n",
       " 127081.09999999999,\n",
       " 125802.96,\n",
       " 122214.84,\n",
       " 119922.16,\n",
       " 116441.0,\n",
       " 115858.4,\n",
       " 116669.2,\n",
       " 115459.20000000001,\n",
       " 113888.67,\n",
       " 114326.28,\n",
       " 110139.84,\n",
       " 105865.28,\n",
       " 99668.36]"
      ]
     },
     "execution_count": 31,
     "metadata": {},
     "output_type": "execute_result"
    }
   ],
   "source": [
    "profits"
   ]
  },
  {
   "cell_type": "code",
   "execution_count": 19,
   "metadata": {},
   "outputs": [
    {
     "data": {
      "text/plain": [
       "165.04"
      ]
     },
     "execution_count": 19,
     "metadata": {},
     "output_type": "execute_result"
    }
   ],
   "source": [
    "round(df[(df['arrival_date_month'] == 'August') & \n",
    "   (3 >= df['arrival_date_day_of_month']) & \n",
    "   (3 < (df['arrival_date_day_of_month'] + df['total_nights']))]['adr'].mean(), 2)"
   ]
  },
  {
   "cell_type": "code",
   "execution_count": 20,
   "metadata": {},
   "outputs": [],
   "source": [
    "df = pd.DataFrame(obj, columns=['id', 'timestamp', 'hotel', 'party_size', 'market_segment',\n",
    "                                'room_difference', 'booking_changes', 'total_of_special_requests', 'total_nights', \n",
    "                                'arrival_year', 'arrival_month', 'arrival_day'])"
   ]
  },
  {
   "cell_type": "code",
   "execution_count": 36,
   "metadata": {},
   "outputs": [],
   "source": [
    "dates = []\n",
    "for y, m, d in zip(df['arrival_year'], df['arrival_month'], df['arrival_day']):\n",
    "    date = str(y) + '-' + str(m) + '-' + str(d)\n",
    "    dates.append(datetime.datetime.strptime(date, '%Y-%B-%d'))\n",
    "dates = pd.DatetimeIndex(dates)"
   ]
  },
  {
   "cell_type": "code",
   "execution_count": null,
   "metadata": {},
   "outputs": [],
   "source": []
  },
  {
   "cell_type": "code",
   "execution_count": 10,
   "metadata": {},
   "outputs": [],
   "source": [
    "X, _ = clean_data(df, y_included=False)"
   ]
  },
  {
   "cell_type": "code",
   "execution_count": 12,
   "metadata": {},
   "outputs": [
    {
     "data": {
      "text/plain": [
       "(10238, 20)"
      ]
     },
     "execution_count": 12,
     "metadata": {},
     "output_type": "execute_result"
    }
   ],
   "source": [
    "X.shape"
   ]
  },
  {
   "cell_type": "code",
   "execution_count": 8,
   "metadata": {},
   "outputs": [],
   "source": [
    "# query = '''CREATE TABLE predictions (\n",
    "#             id INTEGER,\n",
    "#             hotel VARCHAR(50),\n",
    "#             timestamp INTEGER,\n",
    "#             arrival_date_year INTEGER,\n",
    "#             arrival_date_month VARCHAR(50),\n",
    "#             arrival_date_day_of_month INTEGER,\n",
    "#             adr DECIMAL(5,2),\n",
    "#             total_nights INTEGER,\n",
    "#             gross_profit DECIMAL(6,2),\n",
    "#             cancel_prob DECIMAL(4,3),\n",
    "#             predicted_demand INTEGER);\n",
    "#         '''\n",
    "# cur.execute(query)"
   ]
  },
  {
   "cell_type": "code",
   "execution_count": 21,
   "metadata": {},
   "outputs": [
    {
     "ename": "ModuleNotFoundError",
     "evalue": "No module named 'model'",
     "output_type": "error",
     "traceback": [
      "\u001b[0;31m---------------------------------------------------------------------------\u001b[0m",
      "\u001b[0;31mModuleNotFoundError\u001b[0m                       Traceback (most recent call last)",
      "\u001b[0;32m<ipython-input-21-60c7ca7d1210>\u001b[0m in \u001b[0;36m<module>\u001b[0;34m\u001b[0m\n\u001b[1;32m      1\u001b[0m \u001b[0;32mwith\u001b[0m \u001b[0mopen\u001b[0m\u001b[0;34m(\u001b[0m\u001b[0;34m'src/model.pkl'\u001b[0m\u001b[0;34m,\u001b[0m \u001b[0;34m'rb'\u001b[0m\u001b[0;34m)\u001b[0m \u001b[0;32mas\u001b[0m \u001b[0mf\u001b[0m\u001b[0;34m:\u001b[0m\u001b[0;34m\u001b[0m\u001b[0;34m\u001b[0m\u001b[0m\n\u001b[0;32m----> 2\u001b[0;31m         \u001b[0mmodel\u001b[0m \u001b[0;34m=\u001b[0m \u001b[0mpickle\u001b[0m\u001b[0;34m.\u001b[0m\u001b[0mload\u001b[0m\u001b[0;34m(\u001b[0m\u001b[0mf\u001b[0m\u001b[0;34m)\u001b[0m\u001b[0;34m\u001b[0m\u001b[0;34m\u001b[0m\u001b[0m\n\u001b[0m\u001b[1;32m      3\u001b[0m \u001b[0mmodel\u001b[0m \u001b[0;34m=\u001b[0m \u001b[0mpickle\u001b[0m\u001b[0;34m.\u001b[0m\u001b[0mload\u001b[0m\u001b[0;34m(\u001b[0m\u001b[0mf\u001b[0m\u001b[0;34m)\u001b[0m\u001b[0;34m\u001b[0m\u001b[0;34m\u001b[0m\u001b[0m\n",
      "\u001b[0;31mModuleNotFoundError\u001b[0m: No module named 'model'"
     ]
    }
   ],
   "source": [
    "with open('src/model.pkl', 'rb') as f:\n",
    "        model = pickle.load(f)\n",
    "model = pickle.load(f)"
   ]
  },
  {
   "cell_type": "code",
   "execution_count": 26,
   "metadata": {},
   "outputs": [],
   "source": [
    "query = '''\n",
    "        SELECT\n",
    "        id, timestamp, arrival_date_year,\n",
    "        arrival_date_month, arrival_date_day_of_month,\n",
    "        hotel, party_size, market_segment, room_difference, \n",
    "        booking_changes, total_of_special_requests, \n",
    "        adr, total_nights, (adr * total_nights) as gross_profit\n",
    "        FROM reservations r\n",
    "        WHERE r.id NOT IN (SELECT id from predictions)\n",
    "        '''\n",
    "cur.execute(query)\n",
    "obj = cur.fetchall()"
   ]
  },
  {
   "cell_type": "code",
   "execution_count": 27,
   "metadata": {},
   "outputs": [],
   "source": [
    "df = pd.DataFrame(obj, columns=['id', 'timestamp',  \n",
    "                                'arrival_date_year', 'arrival_date_month', 'arrival_date_day_of_month',\n",
    "                                'hotel', 'party_size', 'market_segment', 'room_difference',\n",
    "                                'booking_changes', 'total_of_special_requests',\n",
    "                                'adr', 'total_nights', 'gross_profit'])"
   ]
  },
  {
   "cell_type": "code",
   "execution_count": null,
   "metadata": {},
   "outputs": [],
   "source": []
  },
  {
   "cell_type": "code",
   "execution_count": 16,
   "metadata": {},
   "outputs": [],
   "source": [
    "X, _ = clean_data(df, y_included=False)"
   ]
  },
  {
   "cell_type": "code",
   "execution_count": null,
   "metadata": {},
   "outputs": [],
   "source": [
    "dates = []\n",
    "    for y, m, d in zip(df['arrival_year'], df['arrival_month'], df['arrival_day']):\n",
    "        date = str(y) + '-' + str(m) + '-' + str(d)\n",
    "        dates.append(datetime.datetime.strptime(date, '%Y-%B-%d'))\n",
    "    dates = pd.DatetimeIndex(dates)\n",
    "    probs, bookings = model.predict_proba(X, dates)"
   ]
  },
  {
   "cell_type": "code",
   "execution_count": null,
   "metadata": {},
   "outputs": [],
   "source": [
    "df['cancel_prob'] = probs\n",
    "df['predicted_demand'] = bookings"
   ]
  },
  {
   "cell_type": "code",
   "execution_count": null,
   "metadata": {},
   "outputs": [],
   "source": [
    "id INTEGER,\n",
    "#             hotel VARCHAR(50),\n",
    "#             timestamp INTEGER,\n",
    "#             arrival_date_year INTEGER,\n",
    "#             arrival_date_month VARCHAR(50),\n",
    "#             arrival_date_day_of_month INTEGER,\n",
    "#             adr DECIMAL(5,2),\n",
    "#             total_nights INTEGER,\n",
    "#             gross_profit DECIMAL(6,2),\n",
    "#             cancel_prob DECIMAL(4,3),\n",
    "#             predicted_demand INTEGER);"
   ]
  },
  {
   "cell_type": "code",
   "execution_count": null,
   "metadata": {},
   "outputs": [],
   "source": [
    "query = 'INSERT INTO predictions\\nVALUES '\n",
    "for row, item in df.iterrows():\n",
    "    query += ('(%d, %s, %d, %d, %s, %d, %5.2f, %d, %6.2f, %4.3f, %d)' % \n",
    "              (item['id'], item['hotel'], item['timestamp'],\n",
    "               item['arrival_date_year'], item['arrival_date_month'],\n",
    "               item['arrival_date_day_of_month'], item['adr'], \n",
    "               item['total_nights'], item['gross_profit'], \n",
    "               item['cancel_prob'], item['predicted_demand'])\n",
    "    query += '\\n'\n",
    "query += ';'\n",
    "cur.execute(query)\n"
   ]
  }
 ],
 "metadata": {
  "kernelspec": {
   "display_name": "Python 3",
   "language": "python",
   "name": "python3"
  },
  "language_info": {
   "codemirror_mode": {
    "name": "ipython",
    "version": 3
   },
   "file_extension": ".py",
   "mimetype": "text/x-python",
   "name": "python",
   "nbconvert_exporter": "python",
   "pygments_lexer": "ipython3",
   "version": "3.7.4"
  }
 },
 "nbformat": 4,
 "nbformat_minor": 2
}
